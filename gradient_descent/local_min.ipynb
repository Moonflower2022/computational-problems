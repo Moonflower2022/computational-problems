{
 "cells": [
  {
   "cell_type": "code",
   "execution_count": null,
   "metadata": {},
   "outputs": [],
   "source": [
    "import autograd.numpy as np\n",
    "import matplotlib.pyplot as plt\n",
    "from autograd import elementwise_grad"
   ]
  },
  {
   "cell_type": "markdown",
   "metadata": {},
   "source": [
    "# finding local minimum clocest to starting point"
   ]
  },
  {
   "cell_type": "code",
   "execution_count": 2,
   "metadata": {},
   "outputs": [
    {
     "name": "stdout",
     "output_type": "stream",
     "text": [
      "x: 4.999999989898578\n",
      "f(x): 5.0\n"
     ]
    }
   ],
   "source": [
    "def f(x):\n",
    "    return (x - 5) ** 2 + 5\n",
    "\n",
    "f_desc = \"(x - 5)^2 + 5\"\n",
    "\n",
    "derivative = elementwise_grad(f)\n",
    "\n",
    "iterations = 10000\n",
    "learning_rate = 0.001\n",
    "\n",
    "point = np.array([0])\n",
    "\n",
    "for i in range(iterations):\n",
    "    point = point - learning_rate * derivative(point)\n",
    "\n",
    "print(\"x:\", point[0])\n",
    "print(\"f(x):\", f(point[0]))"
   ]
  },
  {
   "cell_type": "markdown",
   "metadata": {},
   "source": [
    "# find root clocest to starting point"
   ]
  },
  {
   "cell_type": "code",
   "execution_count": null,
   "metadata": {},
   "outputs": [],
   "source": [
    "def f(x):\n",
    "    return 5 * x**7 - 5 * x**6 - x**5 - 2 * x**3 + 8 * x**2 - x + 4\n",
    "\n",
    "f_desc = r\"5x^{7}-5x^{6}-x^{5}-2x^{3}+8x^{2}-x+4\"\n",
    "\n",
    "def objective(x):\n",
    "    return f(x) ** 2\n",
    "\n",
    "derivative = elementwise_grad(objective)\n",
    "\n",
    "iterations = 10000\n",
    "learning_rate = 0.001\n",
    "\n",
    "point = np.array([0])\n",
    "\n",
    "for i in range(iterations):\n",
    "    point = point - learning_rate * derivative(point)\n",
    "\n",
    "print(\"x:\", point[0])\n",
    "print(\"f(x):\", f(point[0]))"
   ]
  }
 ],
 "metadata": {
  "kernelspec": {
   "display_name": "Python 3",
   "language": "python",
   "name": "python3"
  },
  "language_info": {
   "codemirror_mode": {
    "name": "ipython",
    "version": 3
   },
   "file_extension": ".py",
   "mimetype": "text/x-python",
   "name": "python",
   "nbconvert_exporter": "python",
   "pygments_lexer": "ipython3",
   "version": "3.11.4"
  }
 },
 "nbformat": 4,
 "nbformat_minor": 2
}
